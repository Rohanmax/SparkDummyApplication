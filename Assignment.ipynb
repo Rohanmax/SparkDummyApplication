{
  "nbformat": 4,
  "nbformat_minor": 0,
  "metadata": {
    "colab": {
      "provenance": [],
      "authorship_tag": "ABX9TyO2atfj7ry6auuWrS/KdwLc",
      "include_colab_link": true
    },
    "kernelspec": {
      "name": "python3",
      "display_name": "Python 3"
    },
    "language_info": {
      "name": "python"
    }
  },
  "cells": [
    {
      "cell_type": "markdown",
      "metadata": {
        "id": "view-in-github",
        "colab_type": "text"
      },
      "source": [
        "<a href=\"https://colab.research.google.com/github/Rohanmax/SparkDummyApplication/blob/master/Assignment.ipynb\" target=\"_parent\"><img src=\"https://colab.research.google.com/assets/colab-badge.svg\" alt=\"Open In Colab\"/></a>"
      ]
    },
    {
      "cell_type": "code",
      "execution_count": 1,
      "metadata": {
        "colab": {
          "base_uri": "https://localhost:8080/"
        },
        "id": "6hujBmFEyp8l",
        "outputId": "45d2b48d-0015-498a-ae55-4f28248b810f"
      },
      "outputs": [
        {
          "output_type": "stream",
          "name": "stdout",
          "text": [
            "Looking in indexes: https://pypi.org/simple, https://us-python.pkg.dev/colab-wheels/public/simple/\n",
            "Collecting pyspark\n",
            "  Downloading pyspark-3.3.1.tar.gz (281.4 MB)\n",
            "\u001b[2K     \u001b[90m━━━━━━━━━━━━━━━━━━━━━━━━━━━━━━━━━━━━━━━\u001b[0m \u001b[32m281.4/281.4 MB\u001b[0m \u001b[31m4.3 MB/s\u001b[0m eta \u001b[36m0:00:00\u001b[0m\n",
            "\u001b[?25h  Preparing metadata (setup.py) ... \u001b[?25l\u001b[?25hdone\n",
            "Collecting py4j\n",
            "  Downloading py4j-0.10.9.7-py2.py3-none-any.whl (200 kB)\n",
            "\u001b[2K     \u001b[90m━━━━━━━━━━━━━━━━━━━━━━━━━━━━━━━━━━━━━━\u001b[0m \u001b[32m200.5/200.5 KB\u001b[0m \u001b[31m23.5 MB/s\u001b[0m eta \u001b[36m0:00:00\u001b[0m\n",
            "\u001b[?25h  Downloading py4j-0.10.9.5-py2.py3-none-any.whl (199 kB)\n",
            "\u001b[2K     \u001b[90m━━━━━━━━━━━━━━━━━━━━━━━━━━━━━━━━━━━━━━\u001b[0m \u001b[32m199.7/199.7 KB\u001b[0m \u001b[31m20.2 MB/s\u001b[0m eta \u001b[36m0:00:00\u001b[0m\n",
            "\u001b[?25hBuilding wheels for collected packages: pyspark\n",
            "  Building wheel for pyspark (setup.py) ... \u001b[?25l\u001b[?25hdone\n",
            "  Created wheel for pyspark: filename=pyspark-3.3.1-py2.py3-none-any.whl size=281845512 sha256=cdd01b11bd0a00225f7bffda66c09135b2760e8ad178a9e8f1393ba22267ee91\n",
            "  Stored in directory: /root/.cache/pip/wheels/43/dc/11/ec201cd671da62fa9c5cc77078235e40722170ceba231d7598\n",
            "Successfully built pyspark\n",
            "Installing collected packages: py4j, pyspark\n",
            "Successfully installed py4j-0.10.9.5 pyspark-3.3.1\n"
          ]
        }
      ],
      "source": [
        "!pip install pyspark py4j"
      ]
    },
    {
      "cell_type": "code",
      "source": [
        "from pyspark import SparkConf\n",
        "from pyspark.sql import SparkSession\n",
        "from pyspark.sql.functions import col\n",
        "from pyspark.sql.functions import *"
      ],
      "metadata": {
        "id": "p3U6ORA20bvO"
      },
      "execution_count": 2,
      "outputs": []
    },
    {
      "cell_type": "code",
      "source": [
        "my_conf = SparkConf()\n",
        "my_conf.set(\"spark.app.name\", \"my first application\")\n",
        "my_conf.set(\"spark.master\", \"local[*]\")"
      ],
      "metadata": {
        "colab": {
          "base_uri": "https://localhost:8080/"
        },
        "id": "P8hveHEY0uNU",
        "outputId": "223828f2-93f9-460a-da21-74f3821d1ed5"
      },
      "execution_count": 3,
      "outputs": [
        {
          "output_type": "execute_result",
          "data": {
            "text/plain": [
              "<pyspark.conf.SparkConf at 0x7f5d902f1850>"
            ]
          },
          "metadata": {},
          "execution_count": 3
        }
      ]
    },
    {
      "cell_type": "code",
      "source": [
        "spark = SparkSession.builder.config(conf=my_conf).getOrCreate()"
      ],
      "metadata": {
        "id": "zbsD0Tts025r"
      },
      "execution_count": 4,
      "outputs": []
    },
    {
      "cell_type": "code",
      "source": [
        "readerDf = spark.read.format(\"csv\")\\\n",
        "    .option(\"header\",True)\\\n",
        "    .option(\"inferSchema\",True)\\\n",
        "    .option(\"path\",\"/content/analytics_input.csv\" )\\\n",
        "    .load()"
      ],
      "metadata": {
        "id": "aGq_ClVm5NZz"
      },
      "execution_count": 5,
      "outputs": []
    },
    {
      "cell_type": "code",
      "source": [
        "readerDf.printSchema()"
      ],
      "metadata": {
        "colab": {
          "base_uri": "https://localhost:8080/"
        },
        "id": "kPxMPkni5_NR",
        "outputId": "a808b874-554c-4164-b575-46dfc1323254"
      },
      "execution_count": 6,
      "outputs": [
        {
          "output_type": "stream",
          "name": "stdout",
          "text": [
            "root\n",
            " |-- DRG Definition: string (nullable = true)\n",
            " |-- Provider Id: string (nullable = true)\n",
            " |-- Provider Name: string (nullable = true)\n",
            " |-- Provider Street Address: string (nullable = true)\n",
            " |-- Provider City: string (nullable = true)\n",
            " |-- Provider State: string (nullable = true)\n",
            " |-- Provider Zip Code: integer (nullable = true)\n",
            " |-- Hospital Referral Region Description: string (nullable = true)\n",
            " |--  Total Discharges : integer (nullable = true)\n",
            " |--  Average Covered Charges : string (nullable = true)\n",
            " |--  Average Total Payments : string (nullable = true)\n",
            " |-- Average Medicare Payments: string (nullable = true)\n",
            "\n"
          ]
        }
      ]
    },
    {
      "cell_type": "code",
      "source": [
        "columnNameChanged = readerDf.withColumnRenamed(\"DRG Definition\", \"drg_definition\")\\\n",
        "                    .withColumnRenamed(\"Provider Id\", \"provider_id\") \\\n",
        "                    .withColumnRenamed(\"Provider Name\", \"provider_name\")\\\n",
        "                    .withColumnRenamed(\"Provider Street Address\", \"provider_street_address\")\\\n",
        "                    .withColumnRenamed(\"Provider City\", \"provider_city\")\\\n",
        "                    .withColumnRenamed(\"Provider State\", \"provider_state\")\\\n",
        "                    .withColumnRenamed(\"Provider Zip Code\", \"provider_zip_code\")\\\n",
        "                    .withColumnRenamed(\"Hospital Referral Region Description\", \"hospital_referral_region_description\")\\\n",
        "                    .withColumnRenamed(\" Total Discharges \", \"total_discharges\")\\\n",
        "\t                .withColumnRenamed(\" Average Covered Charges \", \"average_covered_charges\")\\\n",
        "\t                .withColumnRenamed(\" Average Total Payments \", \"average_total_payments\")\\\n",
        "\t                .withColumnRenamed(\"Average Medicare Payments\", \"average_medicare_payments\")"
      ],
      "metadata": {
        "id": "iZ0rJSM3-a9j"
      },
      "execution_count": 7,
      "outputs": []
    },
    {
      "cell_type": "code",
      "source": [
        "filtered = columnNameChanged.filter(\"provider_id is not null\")"
      ],
      "metadata": {
        "id": "VzXobIwT-npE"
      },
      "execution_count": 8,
      "outputs": []
    },
    {
      "cell_type": "code",
      "source": [
        "dataframe = filtered.withColumn(\"average_covered_charges\", regexp_replace(filtered[\"average_covered_charges\"],\"\\\\$\",\"\"))\\\n",
        "                    .withColumn(\"average_total_payments\", regexp_replace(filtered[\"average_total_payments\"],\"\\\\$\",\"\"))\\\n",
        "                    .withColumn(\"average_medicare_payments\", regexp_replace(filtered[\"average_medicare_payments\"],\"\\\\$\",\"\"))"
      ],
      "metadata": {
        "id": "WQlALFR9Auth"
      },
      "execution_count": 9,
      "outputs": []
    },
    {
      "cell_type": "code",
      "source": [
        "castToInt = dataframe.withColumn(\"average_covered_charges\",col(\"average_covered_charges\").cast(\"int\"))\\\n",
        "                        .withColumn(\"average_total_payments\",col(\"average_total_payments\").cast(\"int\"))\\\n",
        "                        .withColumn(\"average_medicare_payments\",col(\"average_medicare_payments\").cast(\"int\"))"
      ],
      "metadata": {
        "id": "86kShzhw-u4y"
      },
      "execution_count": 10,
      "outputs": []
    },
    {
      "cell_type": "code",
      "source": [
        "import pandas as pd"
      ],
      "metadata": {
        "id": "JdS9rcKtLiuK"
      },
      "execution_count": 11,
      "outputs": []
    },
    {
      "cell_type": "code",
      "source": [
        "df= castToInt.limit(10).toPandas()"
      ],
      "metadata": {
        "id": "osKD_tDsOAxK"
      },
      "execution_count": 12,
      "outputs": []
    },
    {
      "cell_type": "code",
      "source": [
        "df.plot.bar(x = \"provider_state\", y=\"average_total_payments\")"
      ],
      "metadata": {
        "colab": {
          "base_uri": "https://localhost:8080/",
          "height": 300
        },
        "id": "ajgG6uCqO1r0",
        "outputId": "f62aecf3-16f8-4288-ee8c-30ee88c84b13"
      },
      "execution_count": 13,
      "outputs": [
        {
          "output_type": "execute_result",
          "data": {
            "text/plain": [
              "<matplotlib.axes._subplots.AxesSubplot at 0x7f5d5ec8a340>"
            ]
          },
          "metadata": {},
          "execution_count": 13
        },
        {
          "output_type": "display_data",
          "data": {
            "text/plain": [
              "<Figure size 432x288 with 1 Axes>"
            ],
            "image/png": "[encoded data removed]"
          },
          "metadata": {
            "needs_background": "light"
          }
        }
      ]
    },
    {
      "cell_type": "code",
      "source": [
        "df.plot.bar(x = \"provider_zip_code\", y=\"total_discharges\")"
      ],
      "metadata": {
        "colab": {
          "base_uri": "https://localhost:8080/",
          "height": 320
        },
        "id": "Ye6BOd22NCUn",
        "outputId": "57295be2-c9b3-4f4a-8083-375a757affe2"
      },
      "execution_count": 14,
      "outputs": [
        {
          "output_type": "execute_result",
          "data": {
            "text/plain": [
              "<matplotlib.axes._subplots.AxesSubplot at 0x7f5d5eb8cd30>"
            ]
          },
          "metadata": {},
          "execution_count": 14
        },
        {
          "output_type": "display_data",
          "data": {
            "text/plain": [
              "<Figure size 432x288 with 1 Axes>"
            ],
            "image/png": "[encoded data removed]"
          },
          "metadata": {
            "needs_background": "light"
          }
        }
      ]
    },
    {
      "cell_type": "code",
      "source": [
        "castToInt.write\\\n",
        "        .partitionBy(\"provider_state\")\\\n",
        "        .mode(\"Overwrite\")\\\n",
        "        .option(\"path\", \"/content/write\")\\\n",
        "        .save()"
      ],
      "metadata": {
        "id": "866oy0ZX-rX0"
      },
      "execution_count": 15,
      "outputs": []
    }
  ]
}